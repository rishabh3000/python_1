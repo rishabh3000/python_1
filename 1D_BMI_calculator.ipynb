{
 "cells": [
  {
   "cell_type": "code",
   "execution_count": 5,
   "metadata": {},
   "outputs": [
    {
     "name": "stdout",
     "output_type": "stream",
     "text": [
      "enter the height in m: 1.8\n",
      "enter the weight in w: 87\n",
      "26.85185185185185\n"
     ]
    }
   ],
   "source": [
    "height=float(input(\"enter the height in m: \"))\n",
    "weight=float(input(\"enter the weight in w: \"))\n",
    "bmi=weight/height **2\n",
    "print(bmi)"
   ]
  },
  {
   "cell_type": "code",
   "execution_count": 6,
   "metadata": {},
   "outputs": [
    {
     "name": "stdout",
     "output_type": "stream",
     "text": [
      " your score is 0, your height is 1.8 , you are winning is True\n"
     ]
    }
   ],
   "source": [
    "score=0\n",
    "height=1.8\n",
    "isWinning=True\n",
    "#f-sting\n",
    "print(f\" your score is {score}, your height is {height} , you are winning is {isWinning}\")"
   ]
  },
  {
   "cell_type": "code",
   "execution_count": 15,
   "metadata": {},
   "outputs": [
    {
     "name": "stdout",
     "output_type": "stream",
     "text": [
      "what is your current age?23\n",
      "444\n",
      "13505\n",
      "1924\n",
      "you have 13505 days, 1924 weeks, and 444 months left .\n"
     ]
    }
   ],
   "source": [
    " age=int(input(\"what is your current age?\"))\n",
    "year_remaining =60 - age\n",
    "days_remaining=year_remaining * 365\n",
    "weeks_remainig=year_remaining * 52\n",
    "months_remaining = year_remaining *12\n",
    "\n",
    "print(months_remaining)\n",
    "print(days_remaining)\n",
    "print(weeks_remainig)\n",
    "print(f\"you have {days_remaining} days, {weeks_remainig} weeks, and {months_remaining} months left .\")"
   ]
  },
  {
   "cell_type": "code",
   "execution_count": null,
   "metadata": {},
   "outputs": [],
   "source": []
  }
 ],
 "metadata": {
  "kernelspec": {
   "display_name": "Python 3",
   "language": "python",
   "name": "python3"
  },
  "language_info": {
   "codemirror_mode": {
    "name": "ipython",
    "version": 3
   },
   "file_extension": ".py",
   "mimetype": "text/x-python",
   "name": "python",
   "nbconvert_exporter": "python",
   "pygments_lexer": "ipython3",
   "version": "3.8.3"
  }
 },
 "nbformat": 4,
 "nbformat_minor": 4
}
